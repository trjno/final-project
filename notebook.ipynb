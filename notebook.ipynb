{
 "cells": [
  {
   "cell_type": "code",
   "execution_count": 1,
   "metadata": {},
   "outputs": [],
   "source": [
    "import pandas as pd\n",
    "import numpy as np"
   ]
  },
  {
   "cell_type": "code",
   "execution_count": 2,
   "metadata": {},
   "outputs": [],
   "source": [
    "df = pd.read_csv(\"Student_performance_data _.csv\")"
   ]
  },
  {
   "cell_type": "code",
   "execution_count": 43,
   "metadata": {},
   "outputs": [
    {
     "data": {
      "text/plain": [
       "<bound method DataFrame.info of       StudentID  Age  Gender         Ethnicity  ParentalEducation  \\\n",
       "0          1001   17  Female         Caucasian                  2   \n",
       "1          1002   18    Male         Caucasian                  1   \n",
       "2          1003   15    Male             Asian                  3   \n",
       "3          1004   17  Female         Caucasian                  3   \n",
       "4          1005   17  Female         Caucasian                  2   \n",
       "...         ...  ...     ...               ...                ...   \n",
       "2387       3388   18  Female         Caucasian                  3   \n",
       "2388       3389   17    Male         Caucasian                  1   \n",
       "2389       3390   16  Female         Caucasian                  2   \n",
       "2390       3391   16  Female  African American                  0   \n",
       "2391       3392   16  Female         Caucasian                  2   \n",
       "\n",
       "      StudyTimeWeekly  Absences Tutoring  ParentalSupport  Extracurricular  \\\n",
       "0           19.833723         7      Yes                2                0   \n",
       "1           15.408756         0       No                1                0   \n",
       "2            4.210570        26       No                2                0   \n",
       "3           10.028829        14       No                3                1   \n",
       "4            4.672495        17      Yes                3                0   \n",
       "...               ...       ...      ...              ...              ...   \n",
       "2387        10.680555         2       No                4                1   \n",
       "2388         7.583217         4      Yes                4                0   \n",
       "2389         6.805500        20       No                2                0   \n",
       "2390        12.416653        17       No                2                0   \n",
       "2391        17.819907        13       No                2                0   \n",
       "\n",
       "      ...  Music  Volunteering       GPA  GradeClass  ParentalEducationName  \\\n",
       "0     ...      1             0  2.929196         2.0           Some College   \n",
       "1     ...      0             0  3.042915         1.0            High School   \n",
       "2     ...      0             0  0.112602         4.0             Bachelor's   \n",
       "3     ...      0             0  2.054218         3.0             Bachelor's   \n",
       "4     ...      0             0  1.288061         4.0           Some College   \n",
       "...   ...    ...           ...       ...         ...                    ...   \n",
       "2387  ...      0             0  3.455509         0.0             Bachelor's   \n",
       "2388  ...      0             0  3.279150         4.0            High School   \n",
       "2389  ...      0             1  1.142333         2.0           Some College   \n",
       "2390  ...      1             0  1.803297         1.0                   None   \n",
       "2391  ...      0             1  2.140014         1.0           Some College   \n",
       "\n",
       "     ParentalSupportName ExtracurricularLabel SportsLabel MusicLabel  \\\n",
       "0               Moderate                   No          No        Yes   \n",
       "1                    Low                   No          No         No   \n",
       "2               Moderate                   No          No         No   \n",
       "3                   High                  Yes          No         No   \n",
       "4                   High                   No          No         No   \n",
       "...                  ...                  ...         ...        ...   \n",
       "2387           Very High                  Yes          No         No   \n",
       "2388           Very High                   No         Yes         No   \n",
       "2389            Moderate                   No          No         No   \n",
       "2390            Moderate                   No         Yes        Yes   \n",
       "2391            Moderate                   No          No         No   \n",
       "\n",
       "     VolunteeringLabel  \n",
       "0                   No  \n",
       "1                   No  \n",
       "2                   No  \n",
       "3                   No  \n",
       "4                   No  \n",
       "...                ...  \n",
       "2387                No  \n",
       "2388                No  \n",
       "2389               Yes  \n",
       "2390                No  \n",
       "2391               Yes  \n",
       "\n",
       "[2392 rows x 21 columns]>"
      ]
     },
     "execution_count": 43,
     "metadata": {},
     "output_type": "execute_result"
    }
   ],
   "source": [
    "df.info"
   ]
  },
  {
   "cell_type": "markdown",
   "metadata": {},
   "source": []
  },
  {
   "cell_type": "code",
   "execution_count": 3,
   "metadata": {},
   "outputs": [
    {
     "data": {
      "text/html": [
       "<div>\n",
       "<style scoped>\n",
       "    .dataframe tbody tr th:only-of-type {\n",
       "        vertical-align: middle;\n",
       "    }\n",
       "\n",
       "    .dataframe tbody tr th {\n",
       "        vertical-align: top;\n",
       "    }\n",
       "\n",
       "    .dataframe thead th {\n",
       "        text-align: right;\n",
       "    }\n",
       "</style>\n",
       "<table border=\"1\" class=\"dataframe\">\n",
       "  <thead>\n",
       "    <tr style=\"text-align: right;\">\n",
       "      <th></th>\n",
       "      <th>StudentID</th>\n",
       "      <th>Age</th>\n",
       "      <th>Gender</th>\n",
       "      <th>Ethnicity</th>\n",
       "      <th>ParentalEducation</th>\n",
       "      <th>StudyTimeWeekly</th>\n",
       "      <th>Absences</th>\n",
       "      <th>Tutoring</th>\n",
       "      <th>ParentalSupport</th>\n",
       "      <th>Extracurricular</th>\n",
       "      <th>Sports</th>\n",
       "      <th>Music</th>\n",
       "      <th>Volunteering</th>\n",
       "      <th>GPA</th>\n",
       "      <th>GradeClass</th>\n",
       "    </tr>\n",
       "  </thead>\n",
       "  <tbody>\n",
       "    <tr>\n",
       "      <th>0</th>\n",
       "      <td>1001</td>\n",
       "      <td>17</td>\n",
       "      <td>1</td>\n",
       "      <td>0</td>\n",
       "      <td>2</td>\n",
       "      <td>19.833723</td>\n",
       "      <td>7</td>\n",
       "      <td>1</td>\n",
       "      <td>2</td>\n",
       "      <td>0</td>\n",
       "      <td>0</td>\n",
       "      <td>1</td>\n",
       "      <td>0</td>\n",
       "      <td>2.929196</td>\n",
       "      <td>2.0</td>\n",
       "    </tr>\n",
       "    <tr>\n",
       "      <th>1</th>\n",
       "      <td>1002</td>\n",
       "      <td>18</td>\n",
       "      <td>0</td>\n",
       "      <td>0</td>\n",
       "      <td>1</td>\n",
       "      <td>15.408756</td>\n",
       "      <td>0</td>\n",
       "      <td>0</td>\n",
       "      <td>1</td>\n",
       "      <td>0</td>\n",
       "      <td>0</td>\n",
       "      <td>0</td>\n",
       "      <td>0</td>\n",
       "      <td>3.042915</td>\n",
       "      <td>1.0</td>\n",
       "    </tr>\n",
       "    <tr>\n",
       "      <th>2</th>\n",
       "      <td>1003</td>\n",
       "      <td>15</td>\n",
       "      <td>0</td>\n",
       "      <td>2</td>\n",
       "      <td>3</td>\n",
       "      <td>4.210570</td>\n",
       "      <td>26</td>\n",
       "      <td>0</td>\n",
       "      <td>2</td>\n",
       "      <td>0</td>\n",
       "      <td>0</td>\n",
       "      <td>0</td>\n",
       "      <td>0</td>\n",
       "      <td>0.112602</td>\n",
       "      <td>4.0</td>\n",
       "    </tr>\n",
       "    <tr>\n",
       "      <th>3</th>\n",
       "      <td>1004</td>\n",
       "      <td>17</td>\n",
       "      <td>1</td>\n",
       "      <td>0</td>\n",
       "      <td>3</td>\n",
       "      <td>10.028829</td>\n",
       "      <td>14</td>\n",
       "      <td>0</td>\n",
       "      <td>3</td>\n",
       "      <td>1</td>\n",
       "      <td>0</td>\n",
       "      <td>0</td>\n",
       "      <td>0</td>\n",
       "      <td>2.054218</td>\n",
       "      <td>3.0</td>\n",
       "    </tr>\n",
       "    <tr>\n",
       "      <th>4</th>\n",
       "      <td>1005</td>\n",
       "      <td>17</td>\n",
       "      <td>1</td>\n",
       "      <td>0</td>\n",
       "      <td>2</td>\n",
       "      <td>4.672495</td>\n",
       "      <td>17</td>\n",
       "      <td>1</td>\n",
       "      <td>3</td>\n",
       "      <td>0</td>\n",
       "      <td>0</td>\n",
       "      <td>0</td>\n",
       "      <td>0</td>\n",
       "      <td>1.288061</td>\n",
       "      <td>4.0</td>\n",
       "    </tr>\n",
       "  </tbody>\n",
       "</table>\n",
       "</div>"
      ],
      "text/plain": [
       "   StudentID  Age  Gender  Ethnicity  ParentalEducation  StudyTimeWeekly  \\\n",
       "0       1001   17       1          0                  2        19.833723   \n",
       "1       1002   18       0          0                  1        15.408756   \n",
       "2       1003   15       0          2                  3         4.210570   \n",
       "3       1004   17       1          0                  3        10.028829   \n",
       "4       1005   17       1          0                  2         4.672495   \n",
       "\n",
       "   Absences  Tutoring  ParentalSupport  Extracurricular  Sports  Music  \\\n",
       "0         7         1                2                0       0      1   \n",
       "1         0         0                1                0       0      0   \n",
       "2        26         0                2                0       0      0   \n",
       "3        14         0                3                1       0      0   \n",
       "4        17         1                3                0       0      0   \n",
       "\n",
       "   Volunteering       GPA  GradeClass  \n",
       "0             0  2.929196         2.0  \n",
       "1             0  3.042915         1.0  \n",
       "2             0  0.112602         4.0  \n",
       "3             0  2.054218         3.0  \n",
       "4             0  1.288061         4.0  "
      ]
     },
     "execution_count": 3,
     "metadata": {},
     "output_type": "execute_result"
    }
   ],
   "source": [
    "df.head()"
   ]
  },
  {
   "cell_type": "code",
   "execution_count": 4,
   "metadata": {},
   "outputs": [
    {
     "data": {
      "text/plain": [
       "StudentID            0\n",
       "Age                  0\n",
       "Gender               0\n",
       "Ethnicity            0\n",
       "ParentalEducation    0\n",
       "StudyTimeWeekly      0\n",
       "Absences             0\n",
       "Tutoring             0\n",
       "ParentalSupport      0\n",
       "Extracurricular      0\n",
       "Sports               0\n",
       "Music                0\n",
       "Volunteering         0\n",
       "GPA                  0\n",
       "GradeClass           0\n",
       "dtype: int64"
      ]
     },
     "execution_count": 4,
     "metadata": {},
     "output_type": "execute_result"
    }
   ],
   "source": [
    "df.isna().sum()"
   ]
  },
  {
   "cell_type": "code",
   "execution_count": 5,
   "metadata": {},
   "outputs": [
    {
     "data": {
      "text/plain": [
       "StudentID              int64\n",
       "Age                    int64\n",
       "Gender                 int64\n",
       "Ethnicity              int64\n",
       "ParentalEducation      int64\n",
       "StudyTimeWeekly      float64\n",
       "Absences               int64\n",
       "Tutoring               int64\n",
       "ParentalSupport        int64\n",
       "Extracurricular        int64\n",
       "Sports                 int64\n",
       "Music                  int64\n",
       "Volunteering           int64\n",
       "GPA                  float64\n",
       "GradeClass           float64\n",
       "dtype: object"
      ]
     },
     "execution_count": 5,
     "metadata": {},
     "output_type": "execute_result"
    }
   ],
   "source": [
    "df.dtypes"
   ]
  },
  {
   "cell_type": "code",
   "execution_count": 6,
   "metadata": {},
   "outputs": [],
   "source": [
    "df.Gender = df.Gender.map({0: \"Male\", 1: \"Female\"})\n",
    "df.Ethnicity = df.Ethnicity.map({0: \"Caucasian\", 1: \"African American\", 2: \"Asian\", 3: \"Other\"})\n",
    "\n",
    "parent_edu_dict = {0: \"None\", 1: \"High School\", 2: \"Some College\", 3: \"Bachelor\\'s\", 4: \"Higher\"}\n",
    "df[\"ParentalEducationName\"] = df.ParentalEducation.apply(lambda x: parent_edu_dict[x])\n",
    "df.Tutoring = df.Tutoring.map({0: \"No\", 1: \"Yes\"})\n"
   ]
  },
  {
   "cell_type": "code",
   "execution_count": 7,
   "metadata": {},
   "outputs": [],
   "source": [
    "parent_support_dict = {0: \"None\", 1: \"Low\", 2: \"Moderate\", 3: \"High\", 4: \"Very High\"}\n",
    "\n",
    "df[\"ParentalSupportName\"] = df.ParentalSupport.apply(lambda x: parent_support_dict[x])"
   ]
  },
  {
   "cell_type": "code",
   "execution_count": 8,
   "metadata": {},
   "outputs": [
    {
     "data": {
      "text/plain": [
       "['StudentID',\n",
       " 'Age',\n",
       " 'Gender',\n",
       " 'Ethnicity',\n",
       " 'ParentalEducation',\n",
       " 'StudyTimeWeekly',\n",
       " 'Absences',\n",
       " 'Tutoring',\n",
       " 'ParentalSupport',\n",
       " 'Extracurricular',\n",
       " 'Sports',\n",
       " 'Music',\n",
       " 'Volunteering',\n",
       " 'GPA',\n",
       " 'GradeClass',\n",
       " 'ParentalEducationName',\n",
       " 'ParentalSupportName']"
      ]
     },
     "execution_count": 8,
     "metadata": {},
     "output_type": "execute_result"
    }
   ],
   "source": [
    "df.columns.to_list()"
   ]
  },
  {
   "cell_type": "code",
   "execution_count": 9,
   "metadata": {},
   "outputs": [
    {
     "data": {
      "text/plain": [
       "ParentalSupportName\n",
       "Moderate     740\n",
       "High         697\n",
       "Low          489\n",
       "Very High    254\n",
       "None         212\n",
       "Name: count, dtype: int64"
      ]
     },
     "execution_count": 9,
     "metadata": {},
     "output_type": "execute_result"
    }
   ],
   "source": [
    "df.ParentalSupportName.value_counts()"
   ]
  },
  {
   "cell_type": "code",
   "execution_count": 10,
   "metadata": {},
   "outputs": [],
   "source": [
    "extracuricularList = [\"Extracurricular\", \"Sports\", \"Music\",\t\"Volunteering\"]\n",
    "for el in extracuricularList:\n",
    "    df[el+\"Label\"] = df[el].map({0: \"No\", 1: \"Yes\"})"
   ]
  },
  {
   "cell_type": "code",
   "execution_count": 11,
   "metadata": {},
   "outputs": [],
   "source": [
    "df.to_csv(\"Student_performance_data _new.csv\", encoding=\"utf-8\")"
   ]
  },
  {
   "cell_type": "code",
   "execution_count": 12,
   "metadata": {},
   "outputs": [],
   "source": [
    "# could create abscence classes\n",
    "# chi2 gradeclass ethnicty\n",
    "\n",
    "# Parental impact on Students' ]]]\n",
    "# GPA"
   ]
  },
  {
   "cell_type": "markdown",
   "metadata": {},
   "source": [
    "Hypothesis:\n",
    "- Asian students are the most disciplined \n",
    "- Asian students perform better\n",
    "- "
   ]
  },
  {
   "cell_type": "code",
   "execution_count": 13,
   "metadata": {},
   "outputs": [],
   "source": [
    "import scipy.stats as stats\n",
    "\n",
    "# ANOVA: compare mean amoung different groups\n",
    "# H0: M1 = M2 = M3 =  .. = Mp\n",
    "# H1: \n",
    "# seuil: 5% ~ 0.05, 10% ~ 0.10, 1% ~0.01\n",
    "# regle de decision: pvalue < seuil, on rejette l'hypothese null.\n",
    "\n",
    "results = stats.f_oneway(df[df.Ethnicity == \"Caucasian\"][\"Absences\"],\n",
    "                         df[df.Ethnicity == \"African American\"][\"Absences\"],\n",
    "                         df[df.Ethnicity == \"Asian\"][\"Absences\"],\n",
    "                         df[df.Ethnicity == \"Other\"][\"Absences\"]\n",
    "                         )"
   ]
  },
  {
   "cell_type": "code",
   "execution_count": 14,
   "metadata": {},
   "outputs": [
    {
     "data": {
      "text/plain": [
       "F_onewayResult(statistic=0.9003315133397245, pvalue=0.4402216442932584)"
      ]
     },
     "execution_count": 14,
     "metadata": {},
     "output_type": "execute_result"
    }
   ],
   "source": [
    "results"
   ]
  },
  {
   "cell_type": "code",
   "execution_count": 15,
   "metadata": {},
   "outputs": [
    {
     "data": {
      "text/plain": [
       "TtestResult(statistic=-0.2943986420462503, pvalue=0.768478870949711, df=2390.0)"
      ]
     },
     "execution_count": 15,
     "metadata": {},
     "output_type": "execute_result"
    }
   ],
   "source": [
    "results2 = stats.ttest_ind(df[df.Ethnicity == \"Asian\"][\"Absences\"], df[df.Ethnicity != \"Asian\"][\"Absences\"])\n",
    "results2"
   ]
  },
  {
   "cell_type": "code",
   "execution_count": 16,
   "metadata": {},
   "outputs": [
    {
     "data": {
      "text/plain": [
       "F_onewayResult(statistic=0.9581218945870755, pvalue=0.4115850271925584)"
      ]
     },
     "execution_count": 16,
     "metadata": {},
     "output_type": "execute_result"
    }
   ],
   "source": [
    "results3 = stats.f_oneway(df[df.Ethnicity == \"Caucasian\"][\"GPA\"],\n",
    "                         df[df.Ethnicity == \"African American\"][\"GPA\"],\n",
    "                         df[df.Ethnicity == \"Asian\"][\"GPA\"],\n",
    "                         df[df.Ethnicity == \"Other\"][\"GPA\"]\n",
    "                         )\n",
    "\n",
    "results3"
   ]
  },
  {
   "cell_type": "code",
   "execution_count": 17,
   "metadata": {},
   "outputs": [
    {
     "data": {
      "text/plain": [
       "TtestResult(statistic=0.4211528599113535, pvalue=0.6736813341709118, df=2390.0)"
      ]
     },
     "execution_count": 17,
     "metadata": {},
     "output_type": "execute_result"
    }
   ],
   "source": [
    "results4 = stats.ttest_ind(df[df.Ethnicity == \"Asian\"][\"GPA\"], df[df.Ethnicity != \"Asian\"][\"GPA\"])\n",
    "results4"
   ]
  },
  {
   "cell_type": "code",
   "execution_count": 18,
   "metadata": {},
   "outputs": [
    {
     "data": {
      "text/html": [
       "<div>\n",
       "<style scoped>\n",
       "    .dataframe tbody tr th:only-of-type {\n",
       "        vertical-align: middle;\n",
       "    }\n",
       "\n",
       "    .dataframe tbody tr th {\n",
       "        vertical-align: top;\n",
       "    }\n",
       "\n",
       "    .dataframe thead th {\n",
       "        text-align: right;\n",
       "    }\n",
       "</style>\n",
       "<table border=\"1\" class=\"dataframe\">\n",
       "  <thead>\n",
       "    <tr style=\"text-align: right;\">\n",
       "      <th>GradeClass</th>\n",
       "      <th>0.0</th>\n",
       "      <th>1.0</th>\n",
       "      <th>2.0</th>\n",
       "      <th>3.0</th>\n",
       "      <th>4.0</th>\n",
       "    </tr>\n",
       "    <tr>\n",
       "      <th>Gender</th>\n",
       "      <th></th>\n",
       "      <th></th>\n",
       "      <th></th>\n",
       "      <th></th>\n",
       "      <th></th>\n",
       "    </tr>\n",
       "  </thead>\n",
       "  <tbody>\n",
       "    <tr>\n",
       "      <th>Female</th>\n",
       "      <td>49</td>\n",
       "      <td>137</td>\n",
       "      <td>194</td>\n",
       "      <td>213</td>\n",
       "      <td>629</td>\n",
       "    </tr>\n",
       "    <tr>\n",
       "      <th>Male</th>\n",
       "      <td>58</td>\n",
       "      <td>132</td>\n",
       "      <td>197</td>\n",
       "      <td>201</td>\n",
       "      <td>582</td>\n",
       "    </tr>\n",
       "  </tbody>\n",
       "</table>\n",
       "</div>"
      ],
      "text/plain": [
       "GradeClass  0.0  1.0  2.0  3.0  4.0\n",
       "Gender                             \n",
       "Female       49  137  194  213  629\n",
       "Male         58  132  197  201  582"
      ]
     },
     "execution_count": 18,
     "metadata": {},
     "output_type": "execute_result"
    }
   ],
   "source": [
    "# Chi-2 test of independance: verify if 2 categorical variables are independant or not\n",
    "# H0: the 2 variables are independant\n",
    "# H1: \n",
    "\n",
    "contingency_tbl = pd.pivot_table(df, values=\"Ethnicity\", aggfunc=\"count\", index=\"Gender\", columns=\"GradeClass\")\n",
    "contingency_tbl\n"
   ]
  },
  {
   "cell_type": "code",
   "execution_count": 19,
   "metadata": {},
   "outputs": [
    {
     "data": {
      "text/plain": [
       "Chi2ContingencyResult(statistic=1.915372845465341, pvalue=0.7513204328843888, dof=4, expected_freq=array([[ 54.66304348, 137.42391304, 199.75      , 211.5       ,\n",
       "        618.66304348],\n",
       "       [ 52.33695652, 131.57608696, 191.25      , 202.5       ,\n",
       "        592.33695652]]))"
      ]
     },
     "execution_count": 19,
     "metadata": {},
     "output_type": "execute_result"
    }
   ],
   "source": [
    "results5 = stats.chi2_contingency(contingency_tbl)\n",
    "results5"
   ]
  },
  {
   "cell_type": "code",
   "execution_count": 20,
   "metadata": {},
   "outputs": [
    {
     "data": {
      "text/html": [
       "<div>\n",
       "<style scoped>\n",
       "    .dataframe tbody tr th:only-of-type {\n",
       "        vertical-align: middle;\n",
       "    }\n",
       "\n",
       "    .dataframe tbody tr th {\n",
       "        vertical-align: top;\n",
       "    }\n",
       "\n",
       "    .dataframe thead th {\n",
       "        text-align: right;\n",
       "    }\n",
       "</style>\n",
       "<table border=\"1\" class=\"dataframe\">\n",
       "  <thead>\n",
       "    <tr style=\"text-align: right;\">\n",
       "      <th>ParentalSupportName</th>\n",
       "      <th>None</th>\n",
       "      <th>Low</th>\n",
       "      <th>Moderate</th>\n",
       "      <th>High</th>\n",
       "      <th>Very High</th>\n",
       "    </tr>\n",
       "    <tr>\n",
       "      <th>GradeClass</th>\n",
       "      <th></th>\n",
       "      <th></th>\n",
       "      <th></th>\n",
       "      <th></th>\n",
       "      <th></th>\n",
       "    </tr>\n",
       "  </thead>\n",
       "  <tbody>\n",
       "    <tr>\n",
       "      <th>0.0</th>\n",
       "      <td>5</td>\n",
       "      <td>14</td>\n",
       "      <td>16</td>\n",
       "      <td>47</td>\n",
       "      <td>25</td>\n",
       "    </tr>\n",
       "    <tr>\n",
       "      <th>1.0</th>\n",
       "      <td>8</td>\n",
       "      <td>39</td>\n",
       "      <td>97</td>\n",
       "      <td>92</td>\n",
       "      <td>33</td>\n",
       "    </tr>\n",
       "    <tr>\n",
       "      <th>2.0</th>\n",
       "      <td>37</td>\n",
       "      <td>77</td>\n",
       "      <td>125</td>\n",
       "      <td>112</td>\n",
       "      <td>40</td>\n",
       "    </tr>\n",
       "    <tr>\n",
       "      <th>3.0</th>\n",
       "      <td>32</td>\n",
       "      <td>89</td>\n",
       "      <td>122</td>\n",
       "      <td>122</td>\n",
       "      <td>49</td>\n",
       "    </tr>\n",
       "    <tr>\n",
       "      <th>4.0</th>\n",
       "      <td>130</td>\n",
       "      <td>270</td>\n",
       "      <td>380</td>\n",
       "      <td>324</td>\n",
       "      <td>107</td>\n",
       "    </tr>\n",
       "  </tbody>\n",
       "</table>\n",
       "</div>"
      ],
      "text/plain": [
       "ParentalSupportName  None  Low  Moderate  High  Very High\n",
       "GradeClass                                               \n",
       "0.0                     5   14        16    47         25\n",
       "1.0                     8   39        97    92         33\n",
       "2.0                    37   77       125   112         40\n",
       "3.0                    32   89       122   122         49\n",
       "4.0                   130  270       380   324        107"
      ]
     },
     "execution_count": 20,
     "metadata": {},
     "output_type": "execute_result"
    }
   ],
   "source": [
    "contingency_tbl1 = pd.pivot_table(df, values=\"Ethnicity\", aggfunc=\"count\", columns=\"ParentalSupportName\", index=\"GradeClass\")\n",
    "contingency_tbl1 = contingency_tbl1.loc[:, [\"None\", \"Low\", \"Moderate\", \"High\", \"Very High\"]]\n",
    "contingency_tbl1"
   ]
  },
  {
   "cell_type": "code",
   "execution_count": 21,
   "metadata": {},
   "outputs": [
    {
     "data": {
      "text/plain": [
       "2.2e-09"
      ]
     },
     "execution_count": 21,
     "metadata": {},
     "output_type": "execute_result"
    }
   ],
   "source": [
    "results6 = stats.chi2_contingency(contingency_tbl1)\n",
    "round(results6[1], 10) # 0.000000002 < 0.05 "
   ]
  },
  {
   "cell_type": "code",
   "execution_count": 22,
   "metadata": {},
   "outputs": [],
   "source": [
    "# model"
   ]
  },
  {
   "cell_type": "code",
   "execution_count": 23,
   "metadata": {},
   "outputs": [],
   "source": [
    "from sklearn.feature_selection import chi2\n",
    "import matplotlib.pyplot as plt\n",
    "import seaborn as sns\n",
    "from sklearn.preprocessing import LabelEncoder\n",
    "\n",
    "\n",
    "from sklearn.model_selection import train_test_split\n",
    "from sklearn.neighbors import KNeighborsClassifier\n",
    "from sklearn.preprocessing import MinMaxScaler, StandardScaler\n",
    "\n",
    "\n",
    "from sklearn.preprocessing import OneHotEncoder\n",
    "from sklearn.metrics import accuracy_score"
   ]
  },
  {
   "cell_type": "code",
   "execution_count": 24,
   "metadata": {},
   "outputs": [
    {
     "data": {
      "text/plain": [
       "['StudentID',\n",
       " 'Age',\n",
       " 'Gender',\n",
       " 'Ethnicity',\n",
       " 'ParentalEducation',\n",
       " 'StudyTimeWeekly',\n",
       " 'Absences',\n",
       " 'Tutoring',\n",
       " 'ParentalSupport',\n",
       " 'Extracurricular',\n",
       " 'Sports',\n",
       " 'Music',\n",
       " 'Volunteering',\n",
       " 'GPA',\n",
       " 'GradeClass',\n",
       " 'ParentalEducationName',\n",
       " 'ParentalSupportName',\n",
       " 'ExtracurricularLabel',\n",
       " 'SportsLabel',\n",
       " 'MusicLabel',\n",
       " 'VolunteeringLabel']"
      ]
     },
     "execution_count": 24,
     "metadata": {},
     "output_type": "execute_result"
    }
   ],
   "source": [
    "cols = df.columns.to_list()\n",
    "cols"
   ]
  },
  {
   "cell_type": "code",
   "execution_count": 25,
   "metadata": {},
   "outputs": [],
   "source": [
    "df_model_cat_l = [\"Gender\", \"Ethnicity\", \"ParentalEducationName\", \"Tutoring\", \"ParentalSupportName\", 'Extracurricular',\n",
    "                'Sports', 'Music', 'Volunteering']\n",
    "df_model_quant_l = [\"Age\", \"StudyTimeWeekly\", \"Absences\"]\n",
    "df_model_targets_l = [\"GPA\", \"Gradeclass\"]"
   ]
  },
  {
   "cell_type": "code",
   "execution_count": 26,
   "metadata": {},
   "outputs": [
    {
     "data": {
      "image/png": "[encoded data removed]",
      "text/plain": [
       "<Figure size 1000x1000 with 2 Axes>"
      ]
     },
     "metadata": {},
     "output_type": "display_data"
    }
   ],
   "source": [
    "#heat map for numericals\n",
    "\n",
    "\n",
    "#absolute value of all correlations\n",
    "corr=np.abs(df[(df_model_quant_l+[\"GPA\"])].corr()) \n",
    "\n",
    "#Set up mask for triangle representation\n",
    "mask = np.zeros_like(corr, dtype=bool)\n",
    "mask[np.triu_indices_from(mask)] = True\n",
    "\n",
    "# Set up the matplotlib figure\n",
    "f, ax = plt.subplots(figsize=(10,10))\n",
    "# Generate a custom diverging colormap\n",
    "cmap = sns.diverging_palette(220, 10, as_cmap=True)\n",
    "# Draw the heatmap with the mask and correct aspect ratio\n",
    "sns.heatmap(corr, mask=mask,  vmax=1,square=True, linewidths= .5, cbar_kws={\"shrink\": 1},annot = corr)\n",
    "\n",
    "plt.show()"
   ]
  },
  {
   "cell_type": "code",
   "execution_count": 27,
   "metadata": {},
   "outputs": [],
   "source": [
    "# We will take absences and  StudyTimeWeekly"
   ]
  },
  {
   "cell_type": "code",
   "execution_count": 28,
   "metadata": {},
   "outputs": [
    {
     "name": "stderr",
     "output_type": "stream",
     "text": [
      "C:\\Users\\mross\\AppData\\Local\\Temp\\ipykernel_4664\\2036495866.py:7: SettingWithCopyWarning: \n",
      "A value is trying to be set on a copy of a slice from a DataFrame.\n",
      "Try using .loc[row_indexer,col_indexer] = value instead\n",
      "\n",
      "See the caveats in the documentation: https://pandas.pydata.org/pandas-docs/stable/user_guide/indexing.html#returning-a-view-versus-a-copy\n",
      "  features[col] = le.fit_transform(features[col])\n",
      "C:\\Users\\mross\\AppData\\Local\\Temp\\ipykernel_4664\\2036495866.py:7: SettingWithCopyWarning: \n",
      "A value is trying to be set on a copy of a slice from a DataFrame.\n",
      "Try using .loc[row_indexer,col_indexer] = value instead\n",
      "\n",
      "See the caveats in the documentation: https://pandas.pydata.org/pandas-docs/stable/user_guide/indexing.html#returning-a-view-versus-a-copy\n",
      "  features[col] = le.fit_transform(features[col])\n",
      "C:\\Users\\mross\\AppData\\Local\\Temp\\ipykernel_4664\\2036495866.py:7: SettingWithCopyWarning: \n",
      "A value is trying to be set on a copy of a slice from a DataFrame.\n",
      "Try using .loc[row_indexer,col_indexer] = value instead\n",
      "\n",
      "See the caveats in the documentation: https://pandas.pydata.org/pandas-docs/stable/user_guide/indexing.html#returning-a-view-versus-a-copy\n",
      "  features[col] = le.fit_transform(features[col])\n",
      "C:\\Users\\mross\\AppData\\Local\\Temp\\ipykernel_4664\\2036495866.py:7: SettingWithCopyWarning: \n",
      "A value is trying to be set on a copy of a slice from a DataFrame.\n",
      "Try using .loc[row_indexer,col_indexer] = value instead\n",
      "\n",
      "See the caveats in the documentation: https://pandas.pydata.org/pandas-docs/stable/user_guide/indexing.html#returning-a-view-versus-a-copy\n",
      "  features[col] = le.fit_transform(features[col])\n",
      "C:\\Users\\mross\\AppData\\Local\\Temp\\ipykernel_4664\\2036495866.py:7: SettingWithCopyWarning: \n",
      "A value is trying to be set on a copy of a slice from a DataFrame.\n",
      "Try using .loc[row_indexer,col_indexer] = value instead\n",
      "\n",
      "See the caveats in the documentation: https://pandas.pydata.org/pandas-docs/stable/user_guide/indexing.html#returning-a-view-versus-a-copy\n",
      "  features[col] = le.fit_transform(features[col])\n",
      "C:\\Users\\mross\\AppData\\Local\\Temp\\ipykernel_4664\\2036495866.py:7: SettingWithCopyWarning: \n",
      "A value is trying to be set on a copy of a slice from a DataFrame.\n",
      "Try using .loc[row_indexer,col_indexer] = value instead\n",
      "\n",
      "See the caveats in the documentation: https://pandas.pydata.org/pandas-docs/stable/user_guide/indexing.html#returning-a-view-versus-a-copy\n",
      "  features[col] = le.fit_transform(features[col])\n",
      "C:\\Users\\mross\\AppData\\Local\\Temp\\ipykernel_4664\\2036495866.py:7: SettingWithCopyWarning: \n",
      "A value is trying to be set on a copy of a slice from a DataFrame.\n",
      "Try using .loc[row_indexer,col_indexer] = value instead\n",
      "\n",
      "See the caveats in the documentation: https://pandas.pydata.org/pandas-docs/stable/user_guide/indexing.html#returning-a-view-versus-a-copy\n",
      "  features[col] = le.fit_transform(features[col])\n",
      "C:\\Users\\mross\\AppData\\Local\\Temp\\ipykernel_4664\\2036495866.py:7: SettingWithCopyWarning: \n",
      "A value is trying to be set on a copy of a slice from a DataFrame.\n",
      "Try using .loc[row_indexer,col_indexer] = value instead\n",
      "\n",
      "See the caveats in the documentation: https://pandas.pydata.org/pandas-docs/stable/user_guide/indexing.html#returning-a-view-versus-a-copy\n",
      "  features[col] = le.fit_transform(features[col])\n",
      "C:\\Users\\mross\\AppData\\Local\\Temp\\ipykernel_4664\\2036495866.py:7: SettingWithCopyWarning: \n",
      "A value is trying to be set on a copy of a slice from a DataFrame.\n",
      "Try using .loc[row_indexer,col_indexer] = value instead\n",
      "\n",
      "See the caveats in the documentation: https://pandas.pydata.org/pandas-docs/stable/user_guide/indexing.html#returning-a-view-versus-a-copy\n",
      "  features[col] = le.fit_transform(features[col])\n"
     ]
    },
    {
     "data": {
      "text/html": [
       "<div>\n",
       "<style scoped>\n",
       "    .dataframe tbody tr th:only-of-type {\n",
       "        vertical-align: middle;\n",
       "    }\n",
       "\n",
       "    .dataframe tbody tr th {\n",
       "        vertical-align: top;\n",
       "    }\n",
       "\n",
       "    .dataframe thead th {\n",
       "        text-align: right;\n",
       "    }\n",
       "</style>\n",
       "<table border=\"1\" class=\"dataframe\">\n",
       "  <thead>\n",
       "    <tr style=\"text-align: right;\">\n",
       "      <th></th>\n",
       "      <th>Feature</th>\n",
       "      <th>Chi2 Score</th>\n",
       "      <th>p-value</th>\n",
       "    </tr>\n",
       "  </thead>\n",
       "  <tbody>\n",
       "    <tr>\n",
       "      <th>0</th>\n",
       "      <td>Gender</td>\n",
       "      <td>0.9785</td>\n",
       "      <td>0.9130</td>\n",
       "    </tr>\n",
       "    <tr>\n",
       "      <th>1</th>\n",
       "      <td>Ethnicity</td>\n",
       "      <td>1.1424</td>\n",
       "      <td>0.8875</td>\n",
       "    </tr>\n",
       "    <tr>\n",
       "      <th>2</th>\n",
       "      <td>ParentalEducationName</td>\n",
       "      <td>3.3573</td>\n",
       "      <td>0.4999</td>\n",
       "    </tr>\n",
       "    <tr>\n",
       "      <th>3</th>\n",
       "      <td>Tutoring</td>\n",
       "      <td>26.3725</td>\n",
       "      <td>0.0000</td>\n",
       "    </tr>\n",
       "    <tr>\n",
       "      <th>4</th>\n",
       "      <td>ParentalSupportName</td>\n",
       "      <td>1.0073</td>\n",
       "      <td>0.9087</td>\n",
       "    </tr>\n",
       "    <tr>\n",
       "      <th>5</th>\n",
       "      <td>Extracurricular</td>\n",
       "      <td>8.7668</td>\n",
       "      <td>0.0672</td>\n",
       "    </tr>\n",
       "    <tr>\n",
       "      <th>6</th>\n",
       "      <td>Sports</td>\n",
       "      <td>3.0431</td>\n",
       "      <td>0.5506</td>\n",
       "    </tr>\n",
       "    <tr>\n",
       "      <th>7</th>\n",
       "      <td>Music</td>\n",
       "      <td>6.3376</td>\n",
       "      <td>0.1753</td>\n",
       "    </tr>\n",
       "    <tr>\n",
       "      <th>8</th>\n",
       "      <td>Volunteering</td>\n",
       "      <td>1.2498</td>\n",
       "      <td>0.8698</td>\n",
       "    </tr>\n",
       "  </tbody>\n",
       "</table>\n",
       "</div>"
      ],
      "text/plain": [
       "                 Feature  Chi2 Score  p-value\n",
       "0                 Gender      0.9785   0.9130\n",
       "1              Ethnicity      1.1424   0.8875\n",
       "2  ParentalEducationName      3.3573   0.4999\n",
       "3               Tutoring     26.3725   0.0000\n",
       "4    ParentalSupportName      1.0073   0.9087\n",
       "5        Extracurricular      8.7668   0.0672\n",
       "6                 Sports      3.0431   0.5506\n",
       "7                  Music      6.3376   0.1753\n",
       "8           Volunteering      1.2498   0.8698"
      ]
     },
     "execution_count": 28,
     "metadata": {},
     "output_type": "execute_result"
    }
   ],
   "source": [
    "#chi-squared test for categorical\n",
    "\n",
    "features = df[df_model_cat_l]\n",
    "\n",
    "for col in  features.columns:\n",
    "    le = LabelEncoder()\n",
    "    features[col] = le.fit_transform(features[col])\n",
    "\n",
    "\n",
    "target = df[\"GradeClass\"]\n",
    "\n",
    "chi2_scores, p_values = chi2(features, target)\n",
    "\n",
    "# Create a DataFrame to display the results\n",
    "chi2_results = pd.DataFrame({\n",
    "    'Feature': features.columns,\n",
    "    'Chi2 Score': chi2_scores,\n",
    "    'p-value': p_values\n",
    "})\n",
    "\n",
    "round(chi2_results,4)"
   ]
  },
  {
   "cell_type": "code",
   "execution_count": 29,
   "metadata": {},
   "outputs": [
    {
     "data": {
      "text/html": [
       "<div>\n",
       "<style scoped>\n",
       "    .dataframe tbody tr th:only-of-type {\n",
       "        vertical-align: middle;\n",
       "    }\n",
       "\n",
       "    .dataframe tbody tr th {\n",
       "        vertical-align: top;\n",
       "    }\n",
       "\n",
       "    .dataframe thead th {\n",
       "        text-align: right;\n",
       "    }\n",
       "</style>\n",
       "<table border=\"1\" class=\"dataframe\">\n",
       "  <thead>\n",
       "    <tr style=\"text-align: right;\">\n",
       "      <th></th>\n",
       "      <th>Extracurricular</th>\n",
       "      <th>Sports</th>\n",
       "      <th>Music</th>\n",
       "      <th>Volunteering</th>\n",
       "      <th>Gender_Male</th>\n",
       "      <th>Ethnicity_Asian</th>\n",
       "      <th>Ethnicity_Caucasian</th>\n",
       "      <th>Ethnicity_Other</th>\n",
       "      <th>ParentalEducationName_High School</th>\n",
       "      <th>ParentalEducationName_Higher</th>\n",
       "      <th>ParentalEducationName_None</th>\n",
       "      <th>ParentalEducationName_Some College</th>\n",
       "      <th>Tutoring_Yes</th>\n",
       "      <th>ParentalSupportName_Low</th>\n",
       "      <th>ParentalSupportName_Moderate</th>\n",
       "      <th>ParentalSupportName_None</th>\n",
       "      <th>ParentalSupportName_Very High</th>\n",
       "    </tr>\n",
       "  </thead>\n",
       "  <tbody>\n",
       "    <tr>\n",
       "      <th>0</th>\n",
       "      <td>0</td>\n",
       "      <td>0</td>\n",
       "      <td>1</td>\n",
       "      <td>0</td>\n",
       "      <td>0</td>\n",
       "      <td>0</td>\n",
       "      <td>1</td>\n",
       "      <td>0</td>\n",
       "      <td>0</td>\n",
       "      <td>0</td>\n",
       "      <td>0</td>\n",
       "      <td>1</td>\n",
       "      <td>1</td>\n",
       "      <td>0</td>\n",
       "      <td>1</td>\n",
       "      <td>0</td>\n",
       "      <td>0</td>\n",
       "    </tr>\n",
       "    <tr>\n",
       "      <th>1</th>\n",
       "      <td>0</td>\n",
       "      <td>0</td>\n",
       "      <td>0</td>\n",
       "      <td>0</td>\n",
       "      <td>1</td>\n",
       "      <td>0</td>\n",
       "      <td>1</td>\n",
       "      <td>0</td>\n",
       "      <td>1</td>\n",
       "      <td>0</td>\n",
       "      <td>0</td>\n",
       "      <td>0</td>\n",
       "      <td>0</td>\n",
       "      <td>1</td>\n",
       "      <td>0</td>\n",
       "      <td>0</td>\n",
       "      <td>0</td>\n",
       "    </tr>\n",
       "    <tr>\n",
       "      <th>2</th>\n",
       "      <td>0</td>\n",
       "      <td>0</td>\n",
       "      <td>0</td>\n",
       "      <td>0</td>\n",
       "      <td>1</td>\n",
       "      <td>1</td>\n",
       "      <td>0</td>\n",
       "      <td>0</td>\n",
       "      <td>0</td>\n",
       "      <td>0</td>\n",
       "      <td>0</td>\n",
       "      <td>0</td>\n",
       "      <td>0</td>\n",
       "      <td>0</td>\n",
       "      <td>1</td>\n",
       "      <td>0</td>\n",
       "      <td>0</td>\n",
       "    </tr>\n",
       "    <tr>\n",
       "      <th>3</th>\n",
       "      <td>1</td>\n",
       "      <td>0</td>\n",
       "      <td>0</td>\n",
       "      <td>0</td>\n",
       "      <td>0</td>\n",
       "      <td>0</td>\n",
       "      <td>1</td>\n",
       "      <td>0</td>\n",
       "      <td>0</td>\n",
       "      <td>0</td>\n",
       "      <td>0</td>\n",
       "      <td>0</td>\n",
       "      <td>0</td>\n",
       "      <td>0</td>\n",
       "      <td>0</td>\n",
       "      <td>0</td>\n",
       "      <td>0</td>\n",
       "    </tr>\n",
       "    <tr>\n",
       "      <th>4</th>\n",
       "      <td>0</td>\n",
       "      <td>0</td>\n",
       "      <td>0</td>\n",
       "      <td>0</td>\n",
       "      <td>0</td>\n",
       "      <td>0</td>\n",
       "      <td>1</td>\n",
       "      <td>0</td>\n",
       "      <td>0</td>\n",
       "      <td>0</td>\n",
       "      <td>0</td>\n",
       "      <td>1</td>\n",
       "      <td>1</td>\n",
       "      <td>0</td>\n",
       "      <td>0</td>\n",
       "      <td>0</td>\n",
       "      <td>0</td>\n",
       "    </tr>\n",
       "  </tbody>\n",
       "</table>\n",
       "</div>"
      ],
      "text/plain": [
       "   Extracurricular  Sports  Music  Volunteering  Gender_Male  Ethnicity_Asian  \\\n",
       "0                0       0      1             0            0                0   \n",
       "1                0       0      0             0            1                0   \n",
       "2                0       0      0             0            1                1   \n",
       "3                1       0      0             0            0                0   \n",
       "4                0       0      0             0            0                0   \n",
       "\n",
       "   Ethnicity_Caucasian  Ethnicity_Other  ParentalEducationName_High School  \\\n",
       "0                    1                0                                  0   \n",
       "1                    1                0                                  1   \n",
       "2                    0                0                                  0   \n",
       "3                    1                0                                  0   \n",
       "4                    1                0                                  0   \n",
       "\n",
       "   ParentalEducationName_Higher  ParentalEducationName_None  \\\n",
       "0                             0                           0   \n",
       "1                             0                           0   \n",
       "2                             0                           0   \n",
       "3                             0                           0   \n",
       "4                             0                           0   \n",
       "\n",
       "   ParentalEducationName_Some College  Tutoring_Yes  ParentalSupportName_Low  \\\n",
       "0                                   1             1                        0   \n",
       "1                                   0             0                        1   \n",
       "2                                   0             0                        0   \n",
       "3                                   0             0                        0   \n",
       "4                                   1             1                        0   \n",
       "\n",
       "   ParentalSupportName_Moderate  ParentalSupportName_None  \\\n",
       "0                             1                         0   \n",
       "1                             0                         0   \n",
       "2                             1                         0   \n",
       "3                             0                         0   \n",
       "4                             0                         0   \n",
       "\n",
       "   ParentalSupportName_Very High  \n",
       "0                              0  \n",
       "1                              0  \n",
       "2                              0  \n",
       "3                              0  \n",
       "4                              0  "
      ]
     },
     "execution_count": 29,
     "metadata": {},
     "output_type": "execute_result"
    }
   ],
   "source": [
    "# based on chi 2 test 2 varibale should be kept, we'll ignore the results and build our model with all of them.\n",
    "features_cat = pd.get_dummies(df[df_model_cat_l], dtype = int, drop_first=True)\n",
    "features_cat.head()"
   ]
  },
  {
   "cell_type": "code",
   "execution_count": 38,
   "metadata": {},
   "outputs": [],
   "source": [
    "features_quant = df[[\"StudyTimeWeekly\", \"Absences\"]]\n",
    "scaler = StandardScaler()\n",
    "model = scaler.fit(features_quant)\n",
    "features_quant = pd.DataFrame(model.transform(features_quant), columns=[\"StudyTimeWeekly\", \"Absences\"])"
   ]
  },
  {
   "cell_type": "code",
   "execution_count": 46,
   "metadata": {},
   "outputs": [],
   "source": [
    "features_og = pd.concat([features_cat, features_quant], axis = 1)\n",
    "features_og.drop(columns=[\"Sports\", \"Music\"])\n",
    "\n",
    "X_train, X_test, y_train, y_test = train_test_split(features_og, target, test_size = 0.20, random_state=0)"
   ]
  },
  {
   "cell_type": "code",
   "execution_count": 47,
   "metadata": {},
   "outputs": [
    {
     "data": {
      "text/plain": [
       "1428    4.0\n",
       "2384    4.0\n",
       "149     2.0\n",
       "1448    4.0\n",
       "2164    4.0\n",
       "       ... \n",
       "1033    3.0\n",
       "1731    0.0\n",
       "763     3.0\n",
       "835     4.0\n",
       "1653    4.0\n",
       "Name: GradeClass, Length: 1913, dtype: float64"
      ]
     },
     "execution_count": 47,
     "metadata": {},
     "output_type": "execute_result"
    }
   ],
   "source": [
    "y_train"
   ]
  },
  {
   "cell_type": "code",
   "execution_count": 48,
   "metadata": {},
   "outputs": [
    {
     "data": {
      "text/plain": [
       "0.6283924843423799"
      ]
     },
     "execution_count": 48,
     "metadata": {},
     "output_type": "execute_result"
    }
   ],
   "source": [
    "knn = KNeighborsClassifier(n_neighbors=5)\n",
    "knn.fit(X_train, y_train)\n",
    "\n",
    "y_pred = knn.predict(X_test)\n",
    "\n",
    "accuracy = accuracy_score(y_test, y_pred)\n",
    "accuracy"
   ]
  },
  {
   "cell_type": "code",
   "execution_count": 49,
   "metadata": {},
   "outputs": [
    {
     "data": {
      "text/plain": [
       "0.6931106471816284"
      ]
     },
     "execution_count": 49,
     "metadata": {},
     "output_type": "execute_result"
    }
   ],
   "source": [
    "from sklearn.ensemble import RandomForestClassifier\n",
    "\n",
    "rf = RandomForestClassifier(n_estimators=100)\n",
    "rf.fit(X_train, y_train)\n",
    "\n",
    "y_pred = rf.predict(X_test)\n",
    "\n",
    "accuracy = accuracy_score(y_test, y_pred)\n",
    "accuracy\n"
   ]
  }
 ],
 "metadata": {
  "kernelspec": {
   "display_name": "base",
   "language": "python",
   "name": "python3"
  },
  "language_info": {
   "codemirror_mode": {
    "name": "ipython",
    "version": 3
   },
   "file_extension": ".py",
   "mimetype": "text/x-python",
   "name": "python",
   "nbconvert_exporter": "python",
   "pygments_lexer": "ipython3",
   "version": "3.11.7"
  }
 },
 "nbformat": 4,
 "nbformat_minor": 2
}
